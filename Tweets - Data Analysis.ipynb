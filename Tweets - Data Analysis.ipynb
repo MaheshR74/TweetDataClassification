{
 "cells": [
  {
   "cell_type": "code",
   "execution_count": 1,
   "id": "047f6595",
   "metadata": {
    "ExecuteTime": {
     "end_time": "2022-09-01T13:33:46.315419Z",
     "start_time": "2022-09-01T13:33:40.708377Z"
    }
   },
   "outputs": [],
   "source": [
    "import pandas as pd\n",
    "import numpy as np\n",
    "import seaborn as sns\n",
    "import matplotlib.pyplot as plt\n",
    "\n",
    "import warnings\n",
    "warnings.filterwarnings('ignore')\n",
    "\n",
    "import itertools\n",
    "from itertools import islice"
   ]
  },
  {
   "cell_type": "code",
   "execution_count": 2,
   "id": "b6248ea5",
   "metadata": {
    "ExecuteTime": {
     "end_time": "2022-09-01T13:33:46.585442Z",
     "start_time": "2022-09-01T13:33:46.322438Z"
    }
   },
   "outputs": [
    {
     "data": {
      "text/html": [
       "<div>\n",
       "<style scoped>\n",
       "    .dataframe tbody tr th:only-of-type {\n",
       "        vertical-align: middle;\n",
       "    }\n",
       "\n",
       "    .dataframe tbody tr th {\n",
       "        vertical-align: top;\n",
       "    }\n",
       "\n",
       "    .dataframe thead th {\n",
       "        text-align: right;\n",
       "    }\n",
       "</style>\n",
       "<table border=\"1\" class=\"dataframe\">\n",
       "  <thead>\n",
       "    <tr style=\"text-align: right;\">\n",
       "      <th></th>\n",
       "      <th>tweet_id</th>\n",
       "      <th>airline_sentiment</th>\n",
       "      <th>airline_sentiment_confidence</th>\n",
       "      <th>negativereason</th>\n",
       "      <th>negativereason_confidence</th>\n",
       "      <th>airline</th>\n",
       "      <th>airline_sentiment_gold</th>\n",
       "      <th>name</th>\n",
       "      <th>negativereason_gold</th>\n",
       "      <th>retweet_count</th>\n",
       "      <th>text</th>\n",
       "      <th>tweet_coord</th>\n",
       "      <th>tweet_created</th>\n",
       "      <th>tweet_location</th>\n",
       "      <th>user_timezone</th>\n",
       "    </tr>\n",
       "  </thead>\n",
       "  <tbody>\n",
       "    <tr>\n",
       "      <th>0</th>\n",
       "      <td>5.703060e+17</td>\n",
       "      <td>neutral</td>\n",
       "      <td>1.0000</td>\n",
       "      <td>NaN</td>\n",
       "      <td>NaN</td>\n",
       "      <td>Virgin America</td>\n",
       "      <td>NaN</td>\n",
       "      <td>cairdin</td>\n",
       "      <td>NaN</td>\n",
       "      <td>0</td>\n",
       "      <td>@VirginAmerica What @dhepburn said.</td>\n",
       "      <td>NaN</td>\n",
       "      <td>24/02/2015 11:35</td>\n",
       "      <td>NaN</td>\n",
       "      <td>Eastern Time (US &amp; Canada)</td>\n",
       "    </tr>\n",
       "    <tr>\n",
       "      <th>1</th>\n",
       "      <td>5.703010e+17</td>\n",
       "      <td>positive</td>\n",
       "      <td>0.3486</td>\n",
       "      <td>NaN</td>\n",
       "      <td>0.0000</td>\n",
       "      <td>Virgin America</td>\n",
       "      <td>NaN</td>\n",
       "      <td>jnardino</td>\n",
       "      <td>NaN</td>\n",
       "      <td>0</td>\n",
       "      <td>@VirginAmerica plus you've added commercials t...</td>\n",
       "      <td>NaN</td>\n",
       "      <td>24/02/2015 11:15</td>\n",
       "      <td>NaN</td>\n",
       "      <td>Pacific Time (US &amp; Canada)</td>\n",
       "    </tr>\n",
       "    <tr>\n",
       "      <th>2</th>\n",
       "      <td>5.703010e+17</td>\n",
       "      <td>neutral</td>\n",
       "      <td>0.6837</td>\n",
       "      <td>NaN</td>\n",
       "      <td>NaN</td>\n",
       "      <td>Virgin America</td>\n",
       "      <td>NaN</td>\n",
       "      <td>yvonnalynn</td>\n",
       "      <td>NaN</td>\n",
       "      <td>0</td>\n",
       "      <td>@VirginAmerica I didn't today... Must mean I n...</td>\n",
       "      <td>NaN</td>\n",
       "      <td>24/02/2015 11:15</td>\n",
       "      <td>Lets Play</td>\n",
       "      <td>Central Time (US &amp; Canada)</td>\n",
       "    </tr>\n",
       "    <tr>\n",
       "      <th>3</th>\n",
       "      <td>5.703010e+17</td>\n",
       "      <td>negative</td>\n",
       "      <td>1.0000</td>\n",
       "      <td>Bad Flight</td>\n",
       "      <td>0.7033</td>\n",
       "      <td>Virgin America</td>\n",
       "      <td>NaN</td>\n",
       "      <td>jnardino</td>\n",
       "      <td>NaN</td>\n",
       "      <td>0</td>\n",
       "      <td>@VirginAmerica it's really aggressive to blast...</td>\n",
       "      <td>NaN</td>\n",
       "      <td>24/02/2015 11:15</td>\n",
       "      <td>NaN</td>\n",
       "      <td>Pacific Time (US &amp; Canada)</td>\n",
       "    </tr>\n",
       "    <tr>\n",
       "      <th>4</th>\n",
       "      <td>5.703010e+17</td>\n",
       "      <td>negative</td>\n",
       "      <td>1.0000</td>\n",
       "      <td>Can't Tell</td>\n",
       "      <td>1.0000</td>\n",
       "      <td>Virgin America</td>\n",
       "      <td>NaN</td>\n",
       "      <td>jnardino</td>\n",
       "      <td>NaN</td>\n",
       "      <td>0</td>\n",
       "      <td>@VirginAmerica and it's a really big bad thing...</td>\n",
       "      <td>NaN</td>\n",
       "      <td>24/02/2015 11:14</td>\n",
       "      <td>NaN</td>\n",
       "      <td>Pacific Time (US &amp; Canada)</td>\n",
       "    </tr>\n",
       "  </tbody>\n",
       "</table>\n",
       "</div>"
      ],
      "text/plain": [
       "       tweet_id airline_sentiment  airline_sentiment_confidence  \\\n",
       "0  5.703060e+17           neutral                        1.0000   \n",
       "1  5.703010e+17          positive                        0.3486   \n",
       "2  5.703010e+17           neutral                        0.6837   \n",
       "3  5.703010e+17          negative                        1.0000   \n",
       "4  5.703010e+17          negative                        1.0000   \n",
       "\n",
       "  negativereason  negativereason_confidence         airline  \\\n",
       "0            NaN                        NaN  Virgin America   \n",
       "1            NaN                     0.0000  Virgin America   \n",
       "2            NaN                        NaN  Virgin America   \n",
       "3     Bad Flight                     0.7033  Virgin America   \n",
       "4     Can't Tell                     1.0000  Virgin America   \n",
       "\n",
       "  airline_sentiment_gold        name negativereason_gold  retweet_count  \\\n",
       "0                    NaN     cairdin                 NaN              0   \n",
       "1                    NaN    jnardino                 NaN              0   \n",
       "2                    NaN  yvonnalynn                 NaN              0   \n",
       "3                    NaN    jnardino                 NaN              0   \n",
       "4                    NaN    jnardino                 NaN              0   \n",
       "\n",
       "                                                text tweet_coord  \\\n",
       "0                @VirginAmerica What @dhepburn said.         NaN   \n",
       "1  @VirginAmerica plus you've added commercials t...         NaN   \n",
       "2  @VirginAmerica I didn't today... Must mean I n...         NaN   \n",
       "3  @VirginAmerica it's really aggressive to blast...         NaN   \n",
       "4  @VirginAmerica and it's a really big bad thing...         NaN   \n",
       "\n",
       "      tweet_created tweet_location               user_timezone  \n",
       "0  24/02/2015 11:35            NaN  Eastern Time (US & Canada)  \n",
       "1  24/02/2015 11:15            NaN  Pacific Time (US & Canada)  \n",
       "2  24/02/2015 11:15      Lets Play  Central Time (US & Canada)  \n",
       "3  24/02/2015 11:15            NaN  Pacific Time (US & Canada)  \n",
       "4  24/02/2015 11:14            NaN  Pacific Time (US & Canada)  "
      ]
     },
     "execution_count": 2,
     "metadata": {},
     "output_type": "execute_result"
    }
   ],
   "source": [
    "df = pd.read_csv('Tweets.csv')\n",
    "df.head()"
   ]
  },
  {
   "cell_type": "markdown",
   "id": "3ee09fbc",
   "metadata": {},
   "source": [
    "## For performing sentiment analysis, can you pickup which columns would be useful?"
   ]
  },
  {
   "cell_type": "markdown",
   "id": "5a760b29",
   "metadata": {},
   "source": [
    "airline_sentiment and text are important columns for sentiment analysis."
   ]
  },
  {
   "cell_type": "markdown",
   "id": "99dd236c",
   "metadata": {},
   "source": [
    "## There are three sentiment positive, negative & neutral. What is the average count of each sentiment?"
   ]
  },
  {
   "cell_type": "code",
   "execution_count": 3,
   "id": "f3500549",
   "metadata": {
    "ExecuteTime": {
     "end_time": "2022-09-01T13:33:46.601444Z",
     "start_time": "2022-09-01T13:33:46.589444Z"
    },
    "scrolled": true
   },
   "outputs": [],
   "source": [
    "sentiment_count = df.airline_sentiment.value_counts()"
   ]
  },
  {
   "cell_type": "code",
   "execution_count": 66,
   "id": "0a815584",
   "metadata": {
    "ExecuteTime": {
     "end_time": "2022-09-01T15:15:57.141305Z",
     "start_time": "2022-09-01T15:15:56.974578Z"
    },
    "scrolled": true
   },
   "outputs": [
    {
     "data": {
      "text/plain": [
       "<AxesSubplot:>"
      ]
     },
     "execution_count": 66,
     "metadata": {},
     "output_type": "execute_result"
    },
    {
     "data": {
      "image/png": "[encoded data removed]",
      "text/plain": [
       "<Figure size 432x288 with 1 Axes>"
      ]
     },
     "metadata": {
      "needs_background": "light"
     },
     "output_type": "display_data"
    }
   ],
   "source": [
    "sentiment_count.plot(kind = 'barh')"
   ]
  },
  {
   "cell_type": "code",
   "execution_count": 61,
   "id": "1d558810",
   "metadata": {
    "ExecuteTime": {
     "end_time": "2022-09-01T14:17:01.347521Z",
     "start_time": "2022-09-01T14:17:01.143497Z"
    }
   },
   "outputs": [
    {
     "data": {
      "image/png": "[encoded data removed]",
      "text/plain": [
       "<Figure size 1080x1080 with 1 Axes>"
      ]
     },
     "metadata": {
      "needs_background": "light"
     },
     "output_type": "display_data"
    }
   ],
   "source": [
    "plt.figure(figsize=(15,15))\n",
    "plt.subplot(2,1,1).set_title(\"Count of Type of Sentiment\", fontdict= { 'fontsize': 20, 'fontweight':'bold'})\n",
    "ax = sns.countplot(df['airline_sentiment'],palette=\"Oranges\")\n",
    "plt.xlabel('Sentiment Type')\n",
    "plt.ylabel('Sentiment Count')\n",
    "ax.bar_label(ax.containers[0])\n",
    "sns.despine()"
   ]
  },
  {
   "cell_type": "markdown",
   "id": "8e217641",
   "metadata": {},
   "source": [
    "## How many different airlines are present in the dataset?"
   ]
  },
  {
   "cell_type": "code",
   "execution_count": 6,
   "id": "96b990d0",
   "metadata": {
    "ExecuteTime": {
     "end_time": "2022-09-01T13:33:46.965492Z",
     "start_time": "2022-09-01T13:33:46.937490Z"
    }
   },
   "outputs": [
    {
     "data": {
      "text/plain": [
       "array(['Virgin America', 'United', 'Southwest', 'Delta', 'US Airways',\n",
       "       'American'], dtype=object)"
      ]
     },
     "execution_count": 6,
     "metadata": {},
     "output_type": "execute_result"
    }
   ],
   "source": [
    "df['airline'].unique()"
   ]
  },
  {
   "cell_type": "code",
   "execution_count": 23,
   "id": "72092068",
   "metadata": {
    "ExecuteTime": {
     "end_time": "2022-09-01T13:40:29.355070Z",
     "start_time": "2022-09-01T13:40:29.179036Z"
    }
   },
   "outputs": [
    {
     "data": {
      "text/plain": [
       "([<matplotlib.patches.Wedge at 0x1f2420c47f0>,\n",
       "  <matplotlib.patches.Wedge at 0x1f2420c4cd0>,\n",
       "  <matplotlib.patches.Wedge at 0x1f2420cf1f0>,\n",
       "  <matplotlib.patches.Wedge at 0x1f2420cf6d0>,\n",
       "  <matplotlib.patches.Wedge at 0x1f2420cfbb0>,\n",
       "  <matplotlib.patches.Wedge at 0x1f24230c0d0>],\n",
       " [Text(0.7503132816269462, 0.8043817373698904, 'Virgin America'),\n",
       "  Text(-0.7041085836202399, 0.8451219453264125, 'United'),\n",
       "  Text(-1.0366690370873182, -0.3678550088614437, 'Southwest'),\n",
       "  Text(-0.12999433663974685, -1.0922918439874905, 'Delta'),\n",
       "  Text(0.8461786665248315, -0.7028382917273774, 'US Airways'),\n",
       "  Text(1.093572858985168, -0.11873669226909424, 'American')])"
      ]
     },
     "execution_count": 23,
     "metadata": {},
     "output_type": "execute_result"
    },
    {
     "data": {
      "image/png": "[encoded data removed]",
      "text/plain": [
       "<Figure size 1440x1440 with 1 Axes>"
      ]
     },
     "metadata": {},
     "output_type": "display_data"
    }
   ],
   "source": [
    "plt.figure(figsize=(20,20))\n",
    "plt.subplot(2,1,1).set_title(\"Different type of Airlines\", fontdict= { 'fontsize': 20, 'fontweight':'bold'})\n",
    "plt.pie(df['airline'].value_counts(), labels = df['airline'].unique(),wedgeprops = { 'linewidth' : 3, 'edgecolor' : 'white' })"
   ]
  },
  {
   "cell_type": "markdown",
   "id": "0349a5c6",
   "metadata": {},
   "source": [
    "There are total of 6 different airlines present in the given dataset."
   ]
  },
  {
   "cell_type": "markdown",
   "id": "0a3c8c3a",
   "metadata": {},
   "source": [
    "## Could you generate the no. of sentiments of each airline from the data?"
   ]
  },
  {
   "cell_type": "code",
   "execution_count": 67,
   "id": "115cfec1",
   "metadata": {
    "ExecuteTime": {
     "end_time": "2022-09-01T17:57:17.538446Z",
     "start_time": "2022-09-01T17:57:15.846322Z"
    }
   },
   "outputs": [
    {
     "data": {
      "image/png": "[encoded data removed]",
      "text/plain": [
       "<Figure size 1080x1080 with 1 Axes>"
      ]
     },
     "metadata": {
      "needs_background": "light"
     },
     "output_type": "display_data"
    }
   ],
   "source": [
    "plt.figure(figsize=(15,15))\n",
    "plt.subplot(2,1,1).set_title(\"Count of Type of Sentiment for each Airline\", fontdict= { 'fontsize': 20, 'fontweight':'bold'})\n",
    "ax = sns.countplot(df['airline'],hue =df.airline_sentiment,palette=\"Greys\")\n",
    "plt.xlabel('Airline')\n",
    "plt.ylabel('Sentiment Count')\n",
    "for i in ax.containers:\n",
    "    ax.bar_label(i,)\n",
    "sns.despine()"
   ]
  },
  {
   "cell_type": "markdown",
   "id": "dae0983a",
   "metadata": {},
   "source": [
    "## Which airline has the maximum negative sentiments?"
   ]
  },
  {
   "cell_type": "code",
   "execution_count": 36,
   "id": "bcf06524",
   "metadata": {
    "ExecuteTime": {
     "end_time": "2022-09-01T13:59:47.607331Z",
     "start_time": "2022-09-01T13:59:47.574269Z"
    }
   },
   "outputs": [],
   "source": [
    "count_of_negative_sentiment = df.loc[df['airline_sentiment'] == 'negative']"
   ]
  },
  {
   "cell_type": "code",
   "execution_count": 39,
   "id": "55dbc8a9",
   "metadata": {
    "ExecuteTime": {
     "end_time": "2022-09-01T14:00:28.308349Z",
     "start_time": "2022-09-01T14:00:28.288337Z"
    },
    "scrolled": true
   },
   "outputs": [
    {
     "data": {
      "text/plain": [
       "United            2633\n",
       "US Airways        2263\n",
       "American          1960\n",
       "Southwest         1186\n",
       "Delta              955\n",
       "Virgin America     181\n",
       "Name: airline, dtype: int64"
      ]
     },
     "execution_count": 39,
     "metadata": {},
     "output_type": "execute_result"
    }
   ],
   "source": [
    "max_negative_sentiment = count_of_negative_sentiment['airline'].value_counts()\n",
    "max_negative_sentiment"
   ]
  },
  {
   "cell_type": "code",
   "execution_count": 59,
   "id": "44e98a1e",
   "metadata": {
    "ExecuteTime": {
     "end_time": "2022-09-01T14:15:07.225006Z",
     "start_time": "2022-09-01T14:15:07.014763Z"
    }
   },
   "outputs": [
    {
     "data": {
      "text/plain": [
       "<BarContainer object of 6 artists>"
      ]
     },
     "execution_count": 59,
     "metadata": {},
     "output_type": "execute_result"
    },
    {
     "data": {
      "image/png": "[encoded data removed]",
      "text/plain": [
       "<Figure size 1080x1080 with 1 Axes>"
      ]
     },
     "metadata": {
      "needs_background": "light"
     },
     "output_type": "display_data"
    }
   ],
   "source": [
    "airline_names = ['United','US Airways','American','Southwest','Delta','Virgin America']\n",
    "plt.figure(figsize=(15,15))\n",
    "plt.subplot(2,1,1).set_title(\"Count of Negative Sentiment of each Airline\", fontdict= { 'fontsize': 20, 'fontweight':'bold'})\n",
    "plt.bar(airline_names,max_negative_sentiment,color ='lime',width = 0.5)"
   ]
  },
  {
   "cell_type": "markdown",
   "id": "dcf5e767",
   "metadata": {},
   "source": [
    "United airlines has the maximum negative sentiments."
   ]
  },
  {
   "cell_type": "markdown",
   "id": "e0b7fc2a",
   "metadata": {},
   "source": [
    "## What is the most common negative feedback given?"
   ]
  },
  {
   "cell_type": "code",
   "execution_count": 11,
   "id": "7c608bad",
   "metadata": {
    "ExecuteTime": {
     "end_time": "2022-09-01T13:33:47.786030Z",
     "start_time": "2022-09-01T13:33:47.758040Z"
    }
   },
   "outputs": [],
   "source": [
    "count_negative_sentiment = df.loc[df['airline_sentiment'] == 'negative']"
   ]
  },
  {
   "cell_type": "code",
   "execution_count": 12,
   "id": "928c29d8",
   "metadata": {
    "ExecuteTime": {
     "end_time": "2022-09-01T13:33:47.818102Z",
     "start_time": "2022-09-01T13:33:47.790006Z"
    },
    "scrolled": true
   },
   "outputs": [
    {
     "data": {
      "text/plain": [
       "Customer Service Issue         2910\n",
       "Late Flight                    1665\n",
       "Can't Tell                     1190\n",
       "Cancelled Flight                847\n",
       "Lost Luggage                    724\n",
       "Bad Flight                      580\n",
       "Flight Booking Problems         529\n",
       "Flight Attendant Complaints     481\n",
       "longlines                       178\n",
       "Damaged Luggage                  74\n",
       "Name: negativereason, dtype: int64"
      ]
     },
     "execution_count": 12,
     "metadata": {},
     "output_type": "execute_result"
    }
   ],
   "source": [
    "count_negative_sentiment['negativereason'].value_counts()"
   ]
  },
  {
   "cell_type": "code",
   "execution_count": 65,
   "id": "a45d9982",
   "metadata": {
    "ExecuteTime": {
     "end_time": "2022-09-01T14:20:28.610792Z",
     "start_time": "2022-09-01T14:20:28.237757Z"
    }
   },
   "outputs": [
    {
     "data": {
      "text/plain": [
       "Text(0, 0.5, 'Reason Count')"
      ]
     },
     "execution_count": 65,
     "metadata": {},
     "output_type": "execute_result"
    },
    {
     "data": {
      "image/png": "[encoded data removed]",
      "text/plain": [
       "<Figure size 1800x2160 with 1 Axes>"
      ]
     },
     "metadata": {
      "needs_background": "light"
     },
     "output_type": "display_data"
    }
   ],
   "source": [
    "plt.figure(figsize=(25,30))\n",
    "plt.subplot(2,1,1).set_title(\"Count of Negative Reason\", fontdict= { 'fontsize': 30, 'fontweight':'bold'})\n",
    "sns.countplot(x ='negativereason',data = df,palette = \"Reds\",order = df['negativereason'].value_counts().index)\n",
    "plt.xlabel('Negative Reason Type')\n",
    "plt.ylabel('Reason Count')"
   ]
  },
  {
   "cell_type": "markdown",
   "id": "623b01f3",
   "metadata": {},
   "source": [
    "Customer Service Issue is the most common negative feedback given."
   ]
  },
  {
   "cell_type": "markdown",
   "id": "46bf8c2f",
   "metadata": {
    "ExecuteTime": {
     "end_time": "2022-08-30T18:20:10.687956Z",
     "start_time": "2022-08-30T18:20:10.659429Z"
    }
   },
   "source": [
    "## Is there a specific day where a lot of negative feedbacks were given?"
   ]
  },
  {
   "cell_type": "code",
   "execution_count": 13,
   "id": "64bf6d84",
   "metadata": {
    "ExecuteTime": {
     "end_time": "2022-09-01T13:33:51.196078Z",
     "start_time": "2022-09-01T13:33:47.821127Z"
    }
   },
   "outputs": [
    {
     "data": {
      "image/png": "[encoded data removed]",
      "text/plain": [
       "<Figure size 1440x576 with 1 Axes>"
      ]
     },
     "metadata": {
      "needs_background": "light"
     },
     "output_type": "display_data"
    }
   ],
   "source": [
    "timezone_count = df['user_timezone'].value_counts()\n",
    "tweet = df.groupby(['airline','airline_sentiment'])['user_timezone'].value_counts()\n",
    "\n",
    "df['tweet_created']=pd.to_datetime(df['tweet_created'])\n",
    "df['tweet_created'] = df['tweet_created'].dt.date\n",
    "day = df.groupby(['tweet_created','airline'])['airline_sentiment'].value_counts(sort=True)\n",
    "date = day.loc(axis=0)[:,:,'negative']\n",
    "date.groupby(['tweet_created','airline']).sum().unstack().plot(kind='bar',figsize=(20,8))\n",
    "plt.xlabel('Date')\n",
    "plt.ylabel('Negative Sentiment Count')\n",
    "plt.title(\"Airlines' Negative Sentiment Count by Date\")\n",
    "plt.show()"
   ]
  },
  {
   "cell_type": "markdown",
   "id": "fbcf0b4f",
   "metadata": {},
   "source": [
    "On 22-Feb-2015 and 23-Feb-2015, there is lot of negative feedbacks given."
   ]
  },
  {
   "cell_type": "markdown",
   "id": "bb5c6b5e",
   "metadata": {},
   "source": [
    "## From your analysis, which airline do you feel is doing the best?"
   ]
  },
  {
   "cell_type": "code",
   "execution_count": 14,
   "id": "e2b68a2d",
   "metadata": {
    "ExecuteTime": {
     "end_time": "2022-09-01T13:33:51.244081Z",
     "start_time": "2022-09-01T13:33:51.206084Z"
    },
    "scrolled": false
   },
   "outputs": [
    {
     "name": "stdout",
     "output_type": "stream",
     "text": [
      "68.89 %\n",
      "77.69 %\n",
      "71.04 %\n",
      "49.01 %\n",
      "42.98 %\n",
      "35.91 %\n"
     ]
    }
   ],
   "source": [
    "negative_count = count_of_negative_sentiment['airline'].value_counts()\n",
    "\n",
    "total_count = df['airline'].value_counts()\n",
    "\n",
    "result = []\n",
    "for i,j in zip(negative_count,total_count):\n",
    "    result = (i/j) * 100\n",
    "    print(round(result,2),'%')\n"
   ]
  },
  {
   "cell_type": "code",
   "execution_count": 15,
   "id": "4ab82733",
   "metadata": {
    "ExecuteTime": {
     "end_time": "2022-09-01T13:33:51.276089Z",
     "start_time": "2022-09-01T13:33:51.256085Z"
    }
   },
   "outputs": [],
   "source": [
    "a = df.airline_sentiment\n",
    "b = df.airline\n",
    "data = {'Airline':b, 'Airline Sentiment':a}"
   ]
  },
  {
   "cell_type": "code",
   "execution_count": 16,
   "id": "a7fca805",
   "metadata": {
    "ExecuteTime": {
     "end_time": "2022-09-01T13:33:51.308084Z",
     "start_time": "2022-09-01T13:33:51.284083Z"
    }
   },
   "outputs": [
    {
     "data": {
      "text/html": [
       "<div>\n",
       "<style scoped>\n",
       "    .dataframe tbody tr th:only-of-type {\n",
       "        vertical-align: middle;\n",
       "    }\n",
       "\n",
       "    .dataframe tbody tr th {\n",
       "        vertical-align: top;\n",
       "    }\n",
       "\n",
       "    .dataframe thead th {\n",
       "        text-align: right;\n",
       "    }\n",
       "</style>\n",
       "<table border=\"1\" class=\"dataframe\">\n",
       "  <thead>\n",
       "    <tr style=\"text-align: right;\">\n",
       "      <th></th>\n",
       "      <th>Airline</th>\n",
       "      <th>Airline Sentiment</th>\n",
       "    </tr>\n",
       "  </thead>\n",
       "  <tbody>\n",
       "    <tr>\n",
       "      <th>0</th>\n",
       "      <td>Virgin America</td>\n",
       "      <td>neutral</td>\n",
       "    </tr>\n",
       "    <tr>\n",
       "      <th>1</th>\n",
       "      <td>Virgin America</td>\n",
       "      <td>positive</td>\n",
       "    </tr>\n",
       "    <tr>\n",
       "      <th>2</th>\n",
       "      <td>Virgin America</td>\n",
       "      <td>neutral</td>\n",
       "    </tr>\n",
       "    <tr>\n",
       "      <th>3</th>\n",
       "      <td>Virgin America</td>\n",
       "      <td>negative</td>\n",
       "    </tr>\n",
       "    <tr>\n",
       "      <th>4</th>\n",
       "      <td>Virgin America</td>\n",
       "      <td>negative</td>\n",
       "    </tr>\n",
       "    <tr>\n",
       "      <th>...</th>\n",
       "      <td>...</td>\n",
       "      <td>...</td>\n",
       "    </tr>\n",
       "    <tr>\n",
       "      <th>14635</th>\n",
       "      <td>American</td>\n",
       "      <td>positive</td>\n",
       "    </tr>\n",
       "    <tr>\n",
       "      <th>14636</th>\n",
       "      <td>American</td>\n",
       "      <td>negative</td>\n",
       "    </tr>\n",
       "    <tr>\n",
       "      <th>14637</th>\n",
       "      <td>American</td>\n",
       "      <td>neutral</td>\n",
       "    </tr>\n",
       "    <tr>\n",
       "      <th>14638</th>\n",
       "      <td>American</td>\n",
       "      <td>negative</td>\n",
       "    </tr>\n",
       "    <tr>\n",
       "      <th>14639</th>\n",
       "      <td>American</td>\n",
       "      <td>neutral</td>\n",
       "    </tr>\n",
       "  </tbody>\n",
       "</table>\n",
       "<p>14640 rows × 2 columns</p>\n",
       "</div>"
      ],
      "text/plain": [
       "              Airline Airline Sentiment\n",
       "0      Virgin America           neutral\n",
       "1      Virgin America          positive\n",
       "2      Virgin America           neutral\n",
       "3      Virgin America          negative\n",
       "4      Virgin America          negative\n",
       "...               ...               ...\n",
       "14635        American          positive\n",
       "14636        American          negative\n",
       "14637        American           neutral\n",
       "14638        American          negative\n",
       "14639        American           neutral\n",
       "\n",
       "[14640 rows x 2 columns]"
      ]
     },
     "execution_count": 16,
     "metadata": {},
     "output_type": "execute_result"
    }
   ],
   "source": [
    "df1 = pd.DataFrame(data)\n",
    "df1"
   ]
  },
  {
   "cell_type": "code",
   "execution_count": 17,
   "id": "a12b20eb",
   "metadata": {
    "ExecuteTime": {
     "end_time": "2022-09-01T13:33:51.387089Z",
     "start_time": "2022-09-01T13:33:51.313091Z"
    }
   },
   "outputs": [
    {
     "data": {
      "text/html": [
       "<div>\n",
       "<style scoped>\n",
       "    .dataframe tbody tr th:only-of-type {\n",
       "        vertical-align: middle;\n",
       "    }\n",
       "\n",
       "    .dataframe tbody tr th {\n",
       "        vertical-align: top;\n",
       "    }\n",
       "\n",
       "    .dataframe thead th {\n",
       "        text-align: right;\n",
       "    }\n",
       "</style>\n",
       "<table border=\"1\" class=\"dataframe\">\n",
       "  <thead>\n",
       "    <tr style=\"text-align: right;\">\n",
       "      <th>Airline Sentiment</th>\n",
       "      <th>negative</th>\n",
       "      <th>neutral</th>\n",
       "      <th>positive</th>\n",
       "    </tr>\n",
       "    <tr>\n",
       "      <th>Airline</th>\n",
       "      <th></th>\n",
       "      <th></th>\n",
       "      <th></th>\n",
       "    </tr>\n",
       "  </thead>\n",
       "  <tbody>\n",
       "    <tr>\n",
       "      <th>American</th>\n",
       "      <td>0.710402</td>\n",
       "      <td>0.167814</td>\n",
       "      <td>0.121783</td>\n",
       "    </tr>\n",
       "    <tr>\n",
       "      <th>Delta</th>\n",
       "      <td>0.429793</td>\n",
       "      <td>0.325383</td>\n",
       "      <td>0.244824</td>\n",
       "    </tr>\n",
       "    <tr>\n",
       "      <th>Southwest</th>\n",
       "      <td>0.490083</td>\n",
       "      <td>0.274380</td>\n",
       "      <td>0.235537</td>\n",
       "    </tr>\n",
       "    <tr>\n",
       "      <th>US Airways</th>\n",
       "      <td>0.776862</td>\n",
       "      <td>0.130793</td>\n",
       "      <td>0.092345</td>\n",
       "    </tr>\n",
       "    <tr>\n",
       "      <th>United</th>\n",
       "      <td>0.688906</td>\n",
       "      <td>0.182365</td>\n",
       "      <td>0.128728</td>\n",
       "    </tr>\n",
       "    <tr>\n",
       "      <th>Virgin America</th>\n",
       "      <td>0.359127</td>\n",
       "      <td>0.339286</td>\n",
       "      <td>0.301587</td>\n",
       "    </tr>\n",
       "  </tbody>\n",
       "</table>\n",
       "</div>"
      ],
      "text/plain": [
       "Airline Sentiment  negative   neutral  positive\n",
       "Airline                                        \n",
       "American           0.710402  0.167814  0.121783\n",
       "Delta              0.429793  0.325383  0.244824\n",
       "Southwest          0.490083  0.274380  0.235537\n",
       "US Airways         0.776862  0.130793  0.092345\n",
       "United             0.688906  0.182365  0.128728\n",
       "Virgin America     0.359127  0.339286  0.301587"
      ]
     },
     "execution_count": 17,
     "metadata": {},
     "output_type": "execute_result"
    }
   ],
   "source": [
    "cross_tab_prop = pd.crosstab(index=df1['Airline'],\n",
    "                             columns=df1['Airline Sentiment'],\n",
    "                             normalize=\"index\")\n",
    "cross_tab_prop"
   ]
  },
  {
   "cell_type": "code",
   "execution_count": 18,
   "id": "00fdb01a",
   "metadata": {
    "ExecuteTime": {
     "end_time": "2022-09-01T13:33:51.450095Z",
     "start_time": "2022-09-01T13:33:51.394096Z"
    }
   },
   "outputs": [
    {
     "data": {
      "text/html": [
       "<div>\n",
       "<style scoped>\n",
       "    .dataframe tbody tr th:only-of-type {\n",
       "        vertical-align: middle;\n",
       "    }\n",
       "\n",
       "    .dataframe tbody tr th {\n",
       "        vertical-align: top;\n",
       "    }\n",
       "\n",
       "    .dataframe thead th {\n",
       "        text-align: right;\n",
       "    }\n",
       "</style>\n",
       "<table border=\"1\" class=\"dataframe\">\n",
       "  <thead>\n",
       "    <tr style=\"text-align: right;\">\n",
       "      <th>Airline Sentiment</th>\n",
       "      <th>negative</th>\n",
       "      <th>neutral</th>\n",
       "      <th>positive</th>\n",
       "    </tr>\n",
       "    <tr>\n",
       "      <th>Airline</th>\n",
       "      <th></th>\n",
       "      <th></th>\n",
       "      <th></th>\n",
       "    </tr>\n",
       "  </thead>\n",
       "  <tbody>\n",
       "    <tr>\n",
       "      <th>American</th>\n",
       "      <td>1960</td>\n",
       "      <td>463</td>\n",
       "      <td>336</td>\n",
       "    </tr>\n",
       "    <tr>\n",
       "      <th>Delta</th>\n",
       "      <td>955</td>\n",
       "      <td>723</td>\n",
       "      <td>544</td>\n",
       "    </tr>\n",
       "    <tr>\n",
       "      <th>Southwest</th>\n",
       "      <td>1186</td>\n",
       "      <td>664</td>\n",
       "      <td>570</td>\n",
       "    </tr>\n",
       "    <tr>\n",
       "      <th>US Airways</th>\n",
       "      <td>2263</td>\n",
       "      <td>381</td>\n",
       "      <td>269</td>\n",
       "    </tr>\n",
       "    <tr>\n",
       "      <th>United</th>\n",
       "      <td>2633</td>\n",
       "      <td>697</td>\n",
       "      <td>492</td>\n",
       "    </tr>\n",
       "    <tr>\n",
       "      <th>Virgin America</th>\n",
       "      <td>181</td>\n",
       "      <td>171</td>\n",
       "      <td>152</td>\n",
       "    </tr>\n",
       "  </tbody>\n",
       "</table>\n",
       "</div>"
      ],
      "text/plain": [
       "Airline Sentiment  negative  neutral  positive\n",
       "Airline                                       \n",
       "American               1960      463       336\n",
       "Delta                   955      723       544\n",
       "Southwest              1186      664       570\n",
       "US Airways             2263      381       269\n",
       "United                 2633      697       492\n",
       "Virgin America          181      171       152"
      ]
     },
     "execution_count": 18,
     "metadata": {},
     "output_type": "execute_result"
    }
   ],
   "source": [
    "cross_tab = pd.crosstab(index=df1['Airline'],\n",
    "                             columns=df1['Airline Sentiment'])\n",
    "cross_tab"
   ]
  },
  {
   "cell_type": "code",
   "execution_count": 19,
   "id": "06ed5877",
   "metadata": {
    "ExecuteTime": {
     "end_time": "2022-09-01T13:33:51.770375Z",
     "start_time": "2022-09-01T13:33:51.456103Z"
    }
   },
   "outputs": [
    {
     "data": {
      "image/png": "[encoded data removed]",
      "text/plain": [
       "<Figure size 1080x1080 with 1 Axes>"
      ]
     },
     "metadata": {
      "needs_background": "light"
     },
     "output_type": "display_data"
    }
   ],
   "source": [
    "cross_tab_prop.plot(kind='bar', \n",
    "                    stacked=True,                     \n",
    "                    colormap='prism', \n",
    "                    figsize=(15,15))\n",
    "\n",
    "plt.legend(loc=\"upper left\", ncol=2)\n",
    "plt.xlabel(\"Airline\")\n",
    "plt.ylabel(\"Percentage\")\n",
    "\n",
    "plt.show()"
   ]
  },
  {
   "cell_type": "markdown",
   "id": "8f26c229",
   "metadata": {},
   "source": [
    "Virgin America is doing the best as it has the lowest percentage of negative reviews as compared to others."
   ]
  },
  {
   "cell_type": "code",
   "execution_count": null,
   "id": "977be51a",
   "metadata": {},
   "outputs": [],
   "source": []
  }
 ],
 "metadata": {
  "kernelspec": {
   "display_name": "Python 3 (ipykernel)",
   "language": "python",
   "name": "python3"
  },
  "language_info": {
   "codemirror_mode": {
    "name": "ipython",
    "version": 3
   },
   "file_extension": ".py",
   "mimetype": "text/x-python",
   "name": "python",
   "nbconvert_exporter": "python",
   "pygments_lexer": "ipython3",
   "version": "3.9.12"
  }
 },
 "nbformat": 4,
 "nbformat_minor": 5
}
