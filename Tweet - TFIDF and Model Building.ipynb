{
 "cells": [
  {
   "cell_type": "code",
   "execution_count": 1,
   "id": "081f52bf",
   "metadata": {
    "ExecuteTime": {
     "end_time": "2022-09-11T04:40:32.481558Z",
     "start_time": "2022-09-11T04:40:25.278541Z"
    }
   },
   "outputs": [],
   "source": [
    "import pandas as pd \n",
    "import numpy as np\n",
    "import tensorflow as tf\n",
    "import scipy as sci\n",
    "from sklearn.model_selection import train_test_split\n",
    "from sklearn.feature_extraction.text import TfidfVectorizer\n",
    "from tensorflow.keras.models import Sequential\n",
    "from tensorflow.keras.layers import Dense\n",
    "import matplotlib.pyplot as plt"
   ]
  },
  {
   "cell_type": "code",
   "execution_count": 2,
   "id": "e29c5cf9",
   "metadata": {
    "ExecuteTime": {
     "end_time": "2022-09-11T04:40:32.527689Z",
     "start_time": "2022-09-11T04:40:32.483660Z"
    }
   },
   "outputs": [
    {
     "data": {
      "text/html": [
       "<div>\n",
       "<style scoped>\n",
       "    .dataframe tbody tr th:only-of-type {\n",
       "        vertical-align: middle;\n",
       "    }\n",
       "\n",
       "    .dataframe tbody tr th {\n",
       "        vertical-align: top;\n",
       "    }\n",
       "\n",
       "    .dataframe thead th {\n",
       "        text-align: right;\n",
       "    }\n",
       "</style>\n",
       "<table border=\"1\" class=\"dataframe\">\n",
       "  <thead>\n",
       "    <tr style=\"text-align: right;\">\n",
       "      <th></th>\n",
       "      <th>clean_text</th>\n",
       "      <th>airline_sentiment</th>\n",
       "    </tr>\n",
       "  </thead>\n",
       "  <tbody>\n",
       "    <tr>\n",
       "      <th>0</th>\n",
       "      <td>virginamerica dhepburn said</td>\n",
       "      <td>1</td>\n",
       "    </tr>\n",
       "    <tr>\n",
       "      <th>1</th>\n",
       "      <td>virginamerica plus added commercials experienc...</td>\n",
       "      <td>2</td>\n",
       "    </tr>\n",
       "    <tr>\n",
       "      <th>2</th>\n",
       "      <td>virginamerica today must mean need take anothe...</td>\n",
       "      <td>1</td>\n",
       "    </tr>\n",
       "    <tr>\n",
       "      <th>3</th>\n",
       "      <td>virginamerica really aggressive blast obnoxiou...</td>\n",
       "      <td>0</td>\n",
       "    </tr>\n",
       "    <tr>\n",
       "      <th>4</th>\n",
       "      <td>virginamerica really big bad thing</td>\n",
       "      <td>0</td>\n",
       "    </tr>\n",
       "  </tbody>\n",
       "</table>\n",
       "</div>"
      ],
      "text/plain": [
       "                                          clean_text  airline_sentiment\n",
       "0                        virginamerica dhepburn said                  1\n",
       "1  virginamerica plus added commercials experienc...                  2\n",
       "2  virginamerica today must mean need take anothe...                  1\n",
       "3  virginamerica really aggressive blast obnoxiou...                  0\n",
       "4                 virginamerica really big bad thing                  0"
      ]
     },
     "execution_count": 2,
     "metadata": {},
     "output_type": "execute_result"
    }
   ],
   "source": [
    "df = pd.read_csv('cleaned_tweets_data.csv',index_col=0)\n",
    "df.head()"
   ]
  },
  {
   "cell_type": "code",
   "execution_count": 3,
   "id": "f8a44173",
   "metadata": {
    "ExecuteTime": {
     "end_time": "2022-09-11T04:40:32.542659Z",
     "start_time": "2022-09-11T04:40:32.529662Z"
    }
   },
   "outputs": [],
   "source": [
    "x = df['clean_text']\n",
    "y = df['airline_sentiment']"
   ]
  },
  {
   "cell_type": "code",
   "execution_count": 4,
   "id": "333a883f",
   "metadata": {
    "ExecuteTime": {
     "end_time": "2022-09-11T04:40:32.557660Z",
     "start_time": "2022-09-11T04:40:32.545660Z"
    }
   },
   "outputs": [],
   "source": [
    "x_train,x_test,y_train,y_test = train_test_split(x,y,test_size=0.3,random_state=42)"
   ]
  },
  {
   "cell_type": "code",
   "execution_count": 5,
   "id": "f0e9815a",
   "metadata": {
    "ExecuteTime": {
     "end_time": "2022-09-11T04:40:32.573131Z",
     "start_time": "2022-09-11T04:40:32.559659Z"
    }
   },
   "outputs": [],
   "source": [
    "tfidf_vec = TfidfVectorizer()"
   ]
  },
  {
   "cell_type": "code",
   "execution_count": 6,
   "id": "1c9bf129",
   "metadata": {
    "ExecuteTime": {
     "end_time": "2022-09-11T04:40:32.774958Z",
     "start_time": "2022-09-11T04:40:32.575159Z"
    }
   },
   "outputs": [],
   "source": [
    "x_train = tfidf_vec.fit_transform(x_train) # we always fit_transform train data and transform data\n",
    "x_test = tfidf_vec.transform(x_test)"
   ]
  },
  {
   "cell_type": "code",
   "execution_count": 7,
   "id": "32ae1608",
   "metadata": {
    "ExecuteTime": {
     "end_time": "2022-09-11T04:40:32.916294Z",
     "start_time": "2022-09-11T04:40:32.775958Z"
    }
   },
   "outputs": [],
   "source": [
    "x_train = sci.sparse.csr_matrix.todense(x_train)\n",
    "x_test = sci.sparse.csr_matrix.todense(x_test)"
   ]
  },
  {
   "cell_type": "code",
   "execution_count": 8,
   "id": "2fe085d3",
   "metadata": {
    "ExecuteTime": {
     "end_time": "2022-09-11T04:40:32.931552Z",
     "start_time": "2022-09-11T04:40:32.918292Z"
    }
   },
   "outputs": [
    {
     "data": {
      "text/plain": [
       "11125"
      ]
     },
     "execution_count": 8,
     "metadata": {},
     "output_type": "execute_result"
    }
   ],
   "source": [
    "x_train.shape[1]"
   ]
  },
  {
   "cell_type": "code",
   "execution_count": 9,
   "id": "bdda929e",
   "metadata": {
    "ExecuteTime": {
     "end_time": "2022-09-11T04:40:35.118999Z",
     "start_time": "2022-09-11T04:40:32.933456Z"
    }
   },
   "outputs": [],
   "source": [
    "model = Sequential([\n",
    "    Dense(12000,activation='relu',input_shape=(x_train.shape[1],)),\n",
    "    Dense(5000,activation='relu'),\n",
    "    Dense(3000,activation='relu'),\n",
    "    Dense(3,activation='softmax')\n",
    "                   \n",
    "                   ])"
   ]
  },
  {
   "cell_type": "code",
   "execution_count": 10,
   "id": "50ccef84",
   "metadata": {
    "ExecuteTime": {
     "end_time": "2022-09-11T04:40:35.148480Z",
     "start_time": "2022-09-11T04:40:35.124030Z"
    }
   },
   "outputs": [
    {
     "name": "stdout",
     "output_type": "stream",
     "text": [
      "Model: \"sequential\"\n",
      "_________________________________________________________________\n",
      " Layer (type)                Output Shape              Param #   \n",
      "=================================================================\n",
      " dense (Dense)               (None, 12000)             133512000 \n",
      "                                                                 \n",
      " dense_1 (Dense)             (None, 5000)              60005000  \n",
      "                                                                 \n",
      " dense_2 (Dense)             (None, 3000)              15003000  \n",
      "                                                                 \n",
      " dense_3 (Dense)             (None, 3)                 9003      \n",
      "                                                                 \n",
      "=================================================================\n",
      "Total params: 208,529,003\n",
      "Trainable params: 208,529,003\n",
      "Non-trainable params: 0\n",
      "_________________________________________________________________\n"
     ]
    }
   ],
   "source": [
    "model.summary()"
   ]
  },
  {
   "cell_type": "code",
   "execution_count": 11,
   "id": "20c581cd",
   "metadata": {
    "ExecuteTime": {
     "end_time": "2022-09-11T04:40:35.179123Z",
     "start_time": "2022-09-11T04:40:35.153050Z"
    }
   },
   "outputs": [],
   "source": [
    "model.compile(optimizer='adam',loss= 'SparseCategoricalCrossentropy',metrics=['accuracy'])"
   ]
  },
  {
   "cell_type": "code",
   "execution_count": 12,
   "id": "7a8df65f",
   "metadata": {
    "ExecuteTime": {
     "end_time": "2022-09-11T04:50:15.646013Z",
     "start_time": "2022-09-11T04:40:35.181639Z"
    }
   },
   "outputs": [
    {
     "name": "stdout",
     "output_type": "stream",
     "text": [
      "Epoch 1/10\n",
      "21/21 [==============================] - 75s 3s/step - loss: 0.8599 - accuracy: 0.6061 - val_loss: 0.6572 - val_accuracy: 0.6409\n",
      "Epoch 2/10\n",
      "21/21 [==============================] - 61s 3s/step - loss: 0.4872 - accuracy: 0.8225 - val_loss: 0.6457 - val_accuracy: 0.7905\n",
      "Epoch 3/10\n",
      "21/21 [==============================] - 58s 3s/step - loss: 0.1417 - accuracy: 0.9595 - val_loss: 0.8038 - val_accuracy: 0.7705\n",
      "Epoch 4/10\n",
      "21/21 [==============================] - 58s 3s/step - loss: 0.0401 - accuracy: 0.9887 - val_loss: 1.1935 - val_accuracy: 0.7830\n",
      "Epoch 5/10\n",
      "21/21 [==============================] - 60s 3s/step - loss: 0.0228 - accuracy: 0.9923 - val_loss: 1.1653 - val_accuracy: 0.7748\n",
      "Epoch 6/10\n",
      "21/21 [==============================] - 54s 3s/step - loss: 0.0170 - accuracy: 0.9940 - val_loss: 1.1377 - val_accuracy: 0.7698\n",
      "Epoch 7/10\n",
      "21/21 [==============================] - 54s 3s/step - loss: 0.0135 - accuracy: 0.9947 - val_loss: 1.2260 - val_accuracy: 0.7801\n",
      "Epoch 8/10\n",
      "21/21 [==============================] - 53s 3s/step - loss: 0.0135 - accuracy: 0.9947 - val_loss: 1.1987 - val_accuracy: 0.7735\n",
      "Epoch 9/10\n",
      "21/21 [==============================] - 53s 3s/step - loss: 0.0124 - accuracy: 0.9955 - val_loss: 1.2541 - val_accuracy: 0.7746\n",
      "Epoch 10/10\n",
      "21/21 [==============================] - 54s 3s/step - loss: 0.0114 - accuracy: 0.9956 - val_loss: 1.2067 - val_accuracy: 0.7764\n"
     ]
    }
   ],
   "source": [
    "history = model.fit(x_train,y_train,batch_size=500,epochs=10,validation_data=(x_test,y_test))"
   ]
  },
  {
   "cell_type": "code",
   "execution_count": 13,
   "id": "7dfae98f",
   "metadata": {
    "ExecuteTime": {
     "end_time": "2022-09-11T06:11:18.804179Z",
     "start_time": "2022-09-11T06:11:18.236969Z"
    }
   },
   "outputs": [
    {
     "data": {
      "text/plain": [
       "<matplotlib.legend.Legend at 0x202dd3b1610>"
      ]
     },
     "execution_count": 13,
     "metadata": {},
     "output_type": "execute_result"
    },
    {
     "data": {
      "image/png": "[encoded data removed]",
      "text/plain": [
       "<Figure size 432x288 with 1 Axes>"
      ]
     },
     "metadata": {
      "needs_background": "light"
     },
     "output_type": "display_data"
    }
   ],
   "source": [
    "plt.plot(history.history['loss'])\n",
    "plt.plot(history.history['val_loss'])\n",
    "plt.xlabel('Epochs')\n",
    "plt.ylabel('Loss')\n",
    "plt.title('Loss Plot')\n",
    "plt.legend(['train','test'])"
   ]
  },
  {
   "cell_type": "code",
   "execution_count": 14,
   "id": "a42e9045",
   "metadata": {
    "ExecuteTime": {
     "end_time": "2022-09-11T06:11:29.256180Z",
     "start_time": "2022-09-11T06:11:29.124527Z"
    }
   },
   "outputs": [
    {
     "data": {
      "text/plain": [
       "<matplotlib.legend.Legend at 0x202ddab9b80>"
      ]
     },
     "execution_count": 14,
     "metadata": {},
     "output_type": "execute_result"
    },
    {
     "data": {
      "image/png": "[encoded data removed]",
      "text/plain": [
       "<Figure size 432x288 with 1 Axes>"
      ]
     },
     "metadata": {
      "needs_background": "light"
     },
     "output_type": "display_data"
    }
   ],
   "source": [
    "plt.plot(history.history['accuracy'])\n",
    "plt.plot(history.history['val_accuracy'])\n",
    "plt.xlabel('Epochs')\n",
    "plt.ylabel('accuracy')\n",
    "plt.title('Accuracy Plot')\n",
    "plt.legend(['train','test'])"
   ]
  },
  {
   "cell_type": "code",
   "execution_count": null,
   "id": "7ad6dde3",
   "metadata": {},
   "outputs": [],
   "source": []
  }
 ],
 "metadata": {
  "kernelspec": {
   "display_name": "Python 3 (ipykernel)",
   "language": "python",
   "name": "python3"
  },
  "language_info": {
   "codemirror_mode": {
    "name": "ipython",
    "version": 3
   },
   "file_extension": ".py",
   "mimetype": "text/x-python",
   "name": "python",
   "nbconvert_exporter": "python",
   "pygments_lexer": "ipython3",
   "version": "3.9.12"
  }
 },
 "nbformat": 4,
 "nbformat_minor": 5
}
